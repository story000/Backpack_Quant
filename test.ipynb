{
 "cells": [
  {
   "cell_type": "code",
   "execution_count": 5,
   "metadata": {},
   "outputs": [
    {
     "name": "stdout",
     "output_type": "stream",
     "text": [
      "{'address': '0x8e7836d30afe7ea124699f08b7c2968631516d26'}\n"
     ]
    }
   ],
   "source": [
    "from backpack.bpx import BpxClient\n",
    "from dotenv import load_dotenv\n",
    "import os\n",
    "client = BpxClient()\n",
    "client.init(os.getenv(\"BACKPACK_API_KEY\"), os.getenv(\"BACKPACK_API_SECRET\"))\n",
    "\n",
    "print(client.depositAddress('Ethereum'))\n"
   ]
  }
 ],
 "metadata": {
  "kernelspec": {
   "display_name": "base",
   "language": "python",
   "name": "python3"
  },
  "language_info": {
   "codemirror_mode": {
    "name": "ipython",
    "version": 3
   },
   "file_extension": ".py",
   "mimetype": "text/x-python",
   "name": "python",
   "nbconvert_exporter": "python",
   "pygments_lexer": "ipython3",
   "version": "3.9.7"
  }
 },
 "nbformat": 4,
 "nbformat_minor": 2
}
